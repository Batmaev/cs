{
 "metadata": {
  "language_info": {
   "codemirror_mode": {
    "name": "ipython",
    "version": 3
   },
   "file_extension": ".py",
   "mimetype": "text/x-python",
   "name": "python",
   "nbconvert_exporter": "python",
   "pygments_lexer": "ipython3",
   "version": "3.7.6-final"
  },
  "orig_nbformat": 2,
  "kernelspec": {
   "name": "python_defaultSpec_1600642462981",
   "display_name": "Python 3.7.6 64-bit ('base': conda)"
  }
 },
 "nbformat": 4,
 "nbformat_minor": 2,
 "cells": [
  {
   "source": [
    "import numpy"
   ],
   "cell_type": "code",
   "metadata": {},
   "execution_count": 1,
   "outputs": []
  },
  {
   "cell_type": "code",
   "execution_count": 7,
   "metadata": {},
   "outputs": [],
   "source": [
    "def scaryMatrix(nrows):\n",
    "    m = numpy.zeros((nrows, nrows))\n",
    "    for i in range(1, nrows - 1):\n",
    "        m[i][i] = 10\n",
    "        m[i][i-1] = m[i][i+1] = 1\n",
    "    m[0][0] = 10\n",
    "    m[0][1] = 1\n",
    "    for i in range(nrows):\n",
    "        m[nrows-1][i] = 1\n",
    "    return m"
   ]
  },
  {
   "cell_type": "code",
   "execution_count": 17,
   "metadata": {},
   "outputs": [],
   "source": [
    "def s(nrows):\n",
    "    m = scaryMatrix(nrows)\n",
    "    return m, numpy.linalg.solve(m, range(1, nrows+1))"
   ]
  },
  {
   "cell_type": "code",
   "execution_count": 18,
   "metadata": {},
   "outputs": [],
   "source": [
    "m, a = s(100)"
   ]
  },
  {
   "cell_type": "code",
   "execution_count": 19,
   "metadata": {},
   "outputs": [
    {
     "output_type": "execute_result",
     "data": {
      "text/plain": "array([  1.,   2.,   3.,   4.,   5.,   6.,   7.,   8.,   9.,  10.,  11.,\n        12.,  13.,  14.,  15.,  16.,  17.,  18.,  19.,  20.,  21.,  22.,\n        23.,  24.,  25.,  26.,  27.,  28.,  29.,  30.,  31.,  32.,  33.,\n        34.,  35.,  36.,  37.,  38.,  39.,  40.,  41.,  42.,  43.,  44.,\n        45.,  46.,  47.,  48.,  49.,  50.,  51.,  52.,  53.,  54.,  55.,\n        56.,  57.,  58.,  59.,  60.,  61.,  62.,  63.,  64.,  65.,  66.,\n        67.,  68.,  69.,  70.,  71.,  72.,  73.,  74.,  75.,  76.,  77.,\n        78.,  79.,  80.,  81.,  82.,  83.,  84.,  85.,  86.,  87.,  88.,\n        89.,  90.,  91.,  92.,  93.,  94.,  95.,  96.,  97.,  98.,  99.,\n       100.])"
     },
     "metadata": {},
     "execution_count": 19
    }
   ],
   "source": [
    "m.dot(a)"
   ]
  },
  {
   "cell_type": "code",
   "execution_count": 20,
   "metadata": {},
   "outputs": [
    {
     "output_type": "execute_result",
     "data": {
      "text/plain": "array([ 8.33333333e-02,  1.66666667e-01,  2.50000000e-01,  3.33333333e-01,\n        4.16666667e-01,  5.00000000e-01,  5.83333333e-01,  6.66666667e-01,\n        7.50000000e-01,  8.33333333e-01,  9.16666667e-01,  1.00000000e+00,\n        1.08333333e+00,  1.16666667e+00,  1.25000000e+00,  1.33333333e+00,\n        1.41666667e+00,  1.50000000e+00,  1.58333333e+00,  1.66666667e+00,\n        1.75000000e+00,  1.83333333e+00,  1.91666667e+00,  2.00000000e+00,\n        2.08333333e+00,  2.16666667e+00,  2.25000000e+00,  2.33333333e+00,\n        2.41666667e+00,  2.50000000e+00,  2.58333333e+00,  2.66666667e+00,\n        2.75000000e+00,  2.83333333e+00,  2.91666667e+00,  3.00000000e+00,\n        3.08333333e+00,  3.16666667e+00,  3.25000000e+00,  3.33333333e+00,\n        3.41666667e+00,  3.50000000e+00,  3.58333333e+00,  3.66666667e+00,\n        3.75000000e+00,  3.83333333e+00,  3.91666667e+00,  4.00000000e+00,\n        4.08333333e+00,  4.16666667e+00,  4.25000000e+00,  4.33333333e+00,\n        4.41666667e+00,  4.50000000e+00,  4.58333333e+00,  4.66666667e+00,\n        4.75000000e+00,  4.83333333e+00,  4.91666667e+00,  5.00000000e+00,\n        5.08333333e+00,  5.16666667e+00,  5.25000000e+00,  5.33333333e+00,\n        5.41666667e+00,  5.50000000e+00,  5.58333333e+00,  5.66666667e+00,\n        5.75000000e+00,  5.83333333e+00,  5.91666667e+00,  6.00000000e+00,\n        6.08333333e+00,  6.16666667e+00,  6.25000000e+00,  6.33333333e+00,\n        6.41666667e+00,  6.50000000e+00,  6.58333333e+00,  6.66666667e+00,\n        6.75000000e+00,  6.83333333e+00,  6.91666667e+00,  7.00000000e+00,\n        7.08333333e+00,  7.16666667e+00,  7.25000000e+00,  7.33333333e+00,\n        7.41666667e+00,  7.49999996e+00,  7.58333372e+00,  7.66666284e+00,\n        7.75003793e+00,  7.83295790e+00,  7.92038307e+00,  7.96321141e+00,\n        8.44750288e+00,  4.56175983e+00,  4.39348989e+01, -3.44910748e+02])"
     },
     "metadata": {},
     "execution_count": 20
    }
   ],
   "source": [
    "a"
   ]
  },
  {
   "cell_type": "code",
   "execution_count": 21,
   "metadata": {},
   "outputs": [
    {
     "output_type": "execute_result",
     "data": {
      "text/plain": "10.0"
     },
     "metadata": {},
     "execution_count": 21
    }
   ],
   "source": [
    "m[0, 0]"
   ]
  },
  {
   "cell_type": "code",
   "execution_count": 22,
   "metadata": {},
   "outputs": [
    {
     "output_type": "execute_result",
     "data": {
      "text/plain": "10.0"
     },
     "metadata": {},
     "execution_count": 22
    }
   ],
   "source": [
    "m[0][0]"
   ]
  },
  {
   "cell_type": "code",
   "execution_count": null,
   "metadata": {},
   "outputs": [],
   "source": []
  }
 ]
}