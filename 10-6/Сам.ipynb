{
 "metadata": {
  "language_info": {
   "codemirror_mode": {
    "name": "ipython",
    "version": 3
   },
   "file_extension": ".py",
   "mimetype": "text/x-python",
   "name": "python",
   "nbconvert_exporter": "python",
   "pygments_lexer": "ipython3",
   "version": "3.7.6-final"
  },
  "orig_nbformat": 2,
  "kernelspec": {
   "name": "python_defaultSpec_1600695690888",
   "display_name": "Python 3.7.6 64-bit ('base': conda)"
  }
 },
 "nbformat": 4,
 "nbformat_minor": 2,
 "cells": [
  {
   "cell_type": "code",
   "execution_count": 142,
   "metadata": {},
   "outputs": [],
   "source": [
    "import numpy\n",
    "\n",
    "class GaussMatrix:\n",
    "\n",
    "    def __getitem__(self, index):\n",
    "        if isinstance(index, tuple):\n",
    "            i = index[0] - 1\n",
    "            j = index[1] + self.n\n",
    "            return self.m[i, j]\n",
    "        else:\n",
    "            return self.m[index - 1]\n",
    "\n",
    "    def __setitem__(self, index, value):\n",
    "        if isinstance(index, tuple):\n",
    "            i = index[0] - 1\n",
    "            j = index[1] + self.n\n",
    "            self.m[i, j] = value\n",
    "        else:\n",
    "            self.m[index - 1] = value\n",
    "\n",
    "    def __init__(self, nrows):\n",
    "        self.n = nrows\n",
    "        self.m = numpy.zeros((nrows, 2 * nrows + 1))\n",
    "        \n",
    "        for i in range(1, nrows + 1):\n",
    "            self[i, -i] = 1\n",
    "\n",
    "\n",
    "\n",
    "    \n",
    "    def forwardGauss(self):\n",
    "        for i in range(1, self.n + 1):\n",
    "\n",
    "            ii = self[i, i]\n",
    "            self[i] /= ii\n",
    "\n",
    "            for i_ in range(i + 1, self.n + 1):\n",
    "                i_i = self[i_, i]\n",
    "                self[i_] -= self[i] * i_i\n",
    "                \n",
    "    def backwardGauss(self):\n",
    "        for i in range(self.n, 0, -1):\n",
    "            for i_ in range(i-1, 0, -1):\n",
    "                i_i = self[i_, i]\n",
    "                self[i_] -= self[i] * i_i\n",
    "\n",
    "    \n",
    "    def solveGauss(self):\n",
    "        self.forwardGauss()\n",
    "        self.backwardGauss()\n",
    "        return [self[i, 0] for i in range(1, self.n+1)]\n"
   ]
  },
  {
   "cell_type": "code",
   "execution_count": 148,
   "metadata": {},
   "outputs": [],
   "source": [
    "class Matrix:\n",
    "    def __getitem__(self, index):\n",
    "        if isinstance(index, tuple):\n",
    "            i = index[0] - 1\n",
    "            j = index[1]\n",
    "            return self.m[i, j]\n",
    "        else:\n",
    "            return self.m[index - 1]\n",
    "\n",
    "    def __setitem__(self, index, value):\n",
    "        if isinstance(index, tuple):\n",
    "            i = index[0] - 1\n",
    "            j = index[1]\n",
    "            self.m[i, j] = value\n",
    "        else:\n",
    "            self.m[index - 1] = value\n",
    "\n",
    "    def __init__(self, n):\n",
    "        self.n = n\n",
    "        self.m = numpy.zeros((n, n + 1))\n",
    "\n",
    "\n",
    "\n",
    "    def norm(self):\n",
    "        sumofmodulesarray = []\n",
    "\n",
    "        for i in range(1, self.n + 1):\n",
    "            sumofmodules = 0\n",
    "\n",
    "            for j in range(1, self.n + 1):\n",
    "                sumofmodules += abs(self[i, j])\n",
    "            sumofmodulesarray.append(sumofmodules)\n",
    "\n",
    "        return max(sumofmodulesarray)\n",
    "\n",
    "    def dot(self, x):\n",
    "        x_ = [0] + x\n",
    "        return self.m.dot(x_)"
   ]
  },
  {
   "cell_type": "code",
   "execution_count": 149,
   "metadata": {},
   "outputs": [],
   "source": [
    "class LinearSystem:\n",
    "    def __getitem__(self, index):\n",
    "        return self.source.__getitem__(index)\n",
    "    def __setitem__(self, index, value):\n",
    "        self.source.__setitem__(index, value)\n",
    "\n",
    "    def __init__(self, n):\n",
    "        self.n = n\n",
    "        self.source = Matrix(n)\n",
    "\n",
    "    def solveGauss(self):\n",
    "        self.g = GaussMatrix(self.n)\n",
    "\n",
    "        for i in range(1, self.n + 1):\n",
    "            for j in range(0, self.n + 1):\n",
    "                self.g[i, j] = self[i, j]\n",
    "        \n",
    "        ans = self.g.solveGauss()\n",
    "\n",
    "        self.inverse = Matrix(self.n)\n",
    "        for i in range(self.n+1):\n",
    "            for j in range(self.n+1):\n",
    "                self.inverse[i, j] = self.g[i, -j]\n",
    "        return ans\n",
    "\n",
    "    def conditionNumber(self):\n",
    "        if not hasattr(self, \"inverse\"):\n",
    "            self.solveGauss()\n",
    "        return self.source.norm() * self.inverse.norm()\n"
   ]
  },
  {
   "cell_type": "code",
   "execution_count": 150,
   "metadata": {},
   "outputs": [],
   "source": [
    "def scaryMatrix(nrows):\n",
    "    m = LinearSystem(nrows)\n",
    "\n",
    "    for i in range(2, nrows):\n",
    "        m[i, i] = 10\n",
    "        m[i, i-1] = m[i, i+1] = 1\n",
    "    m[1, 1] = m[nrows, nrows] = 10\n",
    "    m[1, 2] = m[nrows, nrows - 1] = 1\n",
    "\n",
    "    for i in range(1, nrows+1):\n",
    "        m[i, 0] = i\n",
    "    return m"
   ]
  },
  {
   "cell_type": "code",
   "execution_count": 151,
   "metadata": {},
   "outputs": [
    {
     "output_type": "execute_result",
     "data": {
      "text/plain": "[0.08333333333333334,\n 0.16666666666666666,\n 0.24999999999999997,\n 0.3333333333333333,\n 0.4166666666666667,\n 0.5,\n 0.5833333333333334,\n 0.6666666666666666,\n 0.75,\n 0.8333333333333334,\n 0.9166666666666667,\n 1.0000000000000002,\n 1.0833333333333335,\n 1.1666666666666667,\n 1.25,\n 1.3333333333333335,\n 1.4166666666666667,\n 1.5000000000000002,\n 1.5833333333333335,\n 1.6666666666666667,\n 1.7500000000000002,\n 1.8333333333333337,\n 1.916666666666667,\n 1.9999999999999998,\n 2.0833333333333335,\n 2.1666666666666665,\n 2.2500000000000004,\n 2.3333333333333335,\n 2.4166666666666665,\n 2.5,\n 2.583333333333333,\n 2.666666666666667,\n 2.75,\n 2.833333333333333,\n 2.916666666666667,\n 3.0,\n 3.083333333333334,\n 3.1666666666666665,\n 3.25,\n 3.3333333333333335,\n 3.416666666666666,\n 3.5000000000000004,\n 3.583333333333333,\n 3.6666666666666674,\n 3.7499999999999996,\n 3.8333333333333335,\n 3.916666666666667,\n 4.0,\n 4.083333333333333,\n 4.166666666666667,\n 4.25,\n 4.333333333333334,\n 4.416666666666666,\n 4.5,\n 4.583333333333334,\n 4.666666666666667,\n 4.75,\n 4.833333333333334,\n 4.916666666666666,\n 5.0,\n 5.083333333333334,\n 5.166666666666667,\n 5.25,\n 5.333333333333333,\n 5.416666666666667,\n 5.500000000000001,\n 5.583333333333333,\n 5.666666666666667,\n 5.75,\n 5.833333333333333,\n 5.916666666666668,\n 6.000000000000001,\n 6.083333333333333,\n 6.166666666666666,\n 6.250000000000001,\n 6.333333333333334,\n 6.416666666666667,\n 6.5,\n 6.583333333333332,\n 6.666666666666668,\n 6.75,\n 6.833333333333333,\n 6.916666666666666,\n 7.000000000000001,\n 7.083333333333333,\n 7.166666666666677,\n 7.249999999999903,\n 7.333333333334294,\n 7.416666666657159,\n 7.500000000094112,\n 7.583333332401719,\n 7.666666675888694,\n 7.749999908711362,\n 7.8333342369977,\n 7.916657721311625,\n 8.000088549886035,\n 8.082456779828027,\n 8.1753436518337,\n 8.16410670183498,\n 9.183589329816503]"
     },
     "metadata": {},
     "execution_count": 151
    }
   ],
   "source": [
    "s = scaryMatrix(100)\n",
    "s.solveGauss()"
   ]
  },
  {
   "cell_type": "code",
   "execution_count": 152,
   "metadata": {},
   "outputs": [
    {
     "output_type": "execute_result",
     "data": {
      "text/plain": "1.5"
     },
     "metadata": {},
     "execution_count": 152
    }
   ],
   "source": [
    "s.conditionNumber()"
   ]
  },
  {
   "cell_type": "code",
   "execution_count": 136,
   "metadata": {},
   "outputs": [
    {
     "output_type": "execute_result",
     "data": {
      "text/plain": "array([[ 1., 10.,  1.,  0.,  0.,  0.],\n       [ 2.,  1., 10.,  1.,  0.,  0.],\n       [ 3.,  0.,  1., 10.,  1.,  0.],\n       [ 4.,  0.,  0.,  1., 10.,  1.],\n       [ 5.,  0.,  0.,  0.,  1., 10.]])"
     },
     "metadata": {},
     "execution_count": 136
    }
   ],
   "source": [
    "m = scaryMatrix(5)\n",
    "m.source.m"
   ]
  },
  {
   "cell_type": "code",
   "execution_count": 88,
   "metadata": {},
   "outputs": [
    {
     "output_type": "execute_result",
     "data": {
      "text/plain": "array([[ 0. ,  0. ,  0. ,  0. ,  0.1,  0.1,  1. ,  0.1,  0. ,  0. ,  0. ],\n       [ 0. ,  0. ,  0. ,  0.1, -0. ,  0.2,  0. ,  1. ,  0.1,  0. ,  0. ],\n       [ 0. ,  0. ,  0.1, -0. ,  0. ,  0.3,  0. ,  0. ,  1. ,  0.1,  0. ],\n       [ 0. ,  0.1, -0. ,  0. , -0. ,  0.4,  0. ,  0. ,  0. ,  1. ,  0.1],\n       [ 0.1, -0. ,  0. , -0. ,  0. ,  0.5,  0. ,  0. ,  0. ,  0. ,  1. ]])"
     },
     "metadata": {},
     "execution_count": 88
    }
   ],
   "source": [
    "m.forwardGauss()\n",
    "numpy.around(m.m, 1)"
   ]
  },
  {
   "cell_type": "code",
   "execution_count": 89,
   "metadata": {},
   "outputs": [
    {
     "output_type": "execute_result",
     "data": {
      "text/plain": "array([[ 0. , -0. ,  0. , -0. ,  0.1,  0.1,  1. ,  0. ,  0. ,  0. ,  0. ],\n       [-0. ,  0. , -0. ,  0.1, -0. ,  0.2,  0. ,  1. ,  0. ,  0. ,  0. ],\n       [ 0. , -0. ,  0.1, -0. ,  0. ,  0.3,  0. ,  0. ,  1. ,  0. ,  0. ],\n       [-0. ,  0.1, -0. ,  0. , -0. ,  0.3,  0. ,  0. ,  0. ,  1. ,  0. ],\n       [ 0.1, -0. ,  0. , -0. ,  0. ,  0.5,  0. ,  0. ,  0. ,  0. ,  1. ]])"
     },
     "metadata": {},
     "execution_count": 89
    }
   ],
   "source": [
    "m.backwardGauss()\n",
    "numpy.around(m.m, 1)"
   ]
  },
  {
   "cell_type": "code",
   "execution_count": 90,
   "metadata": {},
   "outputs": [
    {
     "output_type": "execute_result",
     "data": {
      "text/plain": "0.08333854003957097"
     },
     "metadata": {},
     "execution_count": 90
    }
   ],
   "source": [
    "m[1,0]"
   ]
  },
  {
   "cell_type": "code",
   "execution_count": 104,
   "metadata": {},
   "outputs": [],
   "source": [
    "class Empty:\n",
    "    pass\n",
    "\n",
    "e = Empty()"
   ]
  },
  {
   "cell_type": "code",
   "execution_count": 107,
   "metadata": {
    "tags": []
   },
   "outputs": [
    {
     "output_type": "execute_result",
     "data": {
      "text/plain": "True"
     },
     "metadata": {},
     "execution_count": 107
    }
   ],
   "source": [
    "not hasattr(e, \"x\")"
   ]
  },
  {
   "cell_type": "code",
   "execution_count": 138,
   "metadata": {},
   "outputs": [],
   "source": [
    "a = numpy.eye(3)\n",
    "a[0, 1] = 1\n",
    "x = [1, 2, 3]"
   ]
  },
  {
   "cell_type": "code",
   "execution_count": 139,
   "metadata": {},
   "outputs": [
    {
     "output_type": "execute_result",
     "data": {
      "text/plain": "array([3., 2., 3.])"
     },
     "metadata": {},
     "execution_count": 139
    }
   ],
   "source": [
    "a.dot(x)"
   ]
  },
  {
   "cell_type": "code",
   "execution_count": 140,
   "metadata": {},
   "outputs": [
    {
     "output_type": "execute_result",
     "data": {
      "text/plain": "array([3., 2., 3.])"
     },
     "metadata": {},
     "execution_count": 140
    }
   ],
   "source": [
    "numpy.matmul(a, x)"
   ]
  },
  {
   "cell_type": "code",
   "execution_count": 141,
   "metadata": {},
   "outputs": [
    {
     "output_type": "execute_result",
     "data": {
      "text/plain": "[0, 1, 2, 3]"
     },
     "metadata": {},
     "execution_count": 141
    }
   ],
   "source": [
    "[0] + x"
   ]
  },
  {
   "cell_type": "code",
   "execution_count": null,
   "metadata": {},
   "outputs": [],
   "source": []
  }
 ]
}