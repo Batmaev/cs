{
 "metadata": {
  "language_info": {
   "codemirror_mode": {
    "name": "ipython",
    "version": 3
   },
   "file_extension": ".py",
   "mimetype": "text/x-python",
   "name": "python",
   "nbconvert_exporter": "python",
   "pygments_lexer": "ipython3",
   "version": "3.7.6-final"
  },
  "orig_nbformat": 2,
  "kernelspec": {
   "name": "python_defaultSpec_1600727769566",
   "display_name": "Python 3.7.6 64-bit ('base': conda)"
  }
 },
 "nbformat": 4,
 "nbformat_minor": 2,
 "cells": [
  {
   "cell_type": "code",
   "execution_count": 1,
   "metadata": {},
   "outputs": [],
   "source": [
    "import numpy"
   ]
  },
  {
   "cell_type": "code",
   "execution_count": 2,
   "metadata": {},
   "outputs": [],
   "source": [
    "class GaussMatrix:\n",
    "    \"\"\"Расширенная матрица. Нулевой столбец - для свободных членов, положительные - для матрицы коэффициентов (индексы начинаются с 1), а в отрицательных автоматически появится единичная матрица a[i, -i] = 1\"\"\"\n",
    "\n",
    "    def __getitem__(self, index):\n",
    "        if isinstance(index, tuple):\n",
    "            i = index[0] - 1\n",
    "            j = index[1] + self.n\n",
    "            return self.m[i, j]\n",
    "        else:\n",
    "            return self.m[index - 1]\n",
    "\n",
    "    def __setitem__(self, index, value):\n",
    "        if isinstance(index, tuple):\n",
    "            i = index[0] - 1\n",
    "            j = index[1] + self.n\n",
    "            self.m[i, j] = value\n",
    "        else:\n",
    "            self.m[index - 1] = value\n",
    "\n",
    "    def __init__(self, nrows):\n",
    "        self.n = nrows\n",
    "        self.m = numpy.zeros((nrows, 2 * nrows + 1))\n",
    "        \n",
    "        for i in range(1, nrows + 1):\n",
    "            self[i, -i] = 1\n",
    "\n",
    "\n",
    "# Алгоритм начинается здесь\n",
    "    \n",
    "    def forwardGauss(self):\n",
    "        \"\"\"Прямой ход метода Гаусса\"\"\"\n",
    "        for i in range(1, self.n + 1):\n",
    "\n",
    "            ii = self[i, i]\n",
    "            self[i] /= ii\n",
    "\n",
    "            for i_ in range(i + 1, self.n + 1):\n",
    "                i_i = self[i_, i]\n",
    "                self[i_] -= self[i] * i_i\n",
    "                \n",
    "    def backwardGauss(self):\n",
    "        \"\"\"Обратный ход метода Гаусса\"\"\"\n",
    "        for i in range(self.n, 0, -1):\n",
    "            for i_ in range(i-1, 0, -1):\n",
    "                i_i = self[i_, i]\n",
    "                self[i_] -= self[i] * i_i\n",
    "\n",
    "    \n",
    "    def solveGauss(self):\n",
    "        \"\"\"Решает систему методом Гаусса, возвращает список найденных иксов. Предполагается, что есть диагональное преобладание.\"\"\"\n",
    "        self.forwardGauss()\n",
    "        self.backwardGauss()\n",
    "        return [self[i, 0] for i in range(1, self.n+1)]\n"
   ]
  },
  {
   "cell_type": "code",
   "execution_count": 3,
   "metadata": {},
   "outputs": [],
   "source": [
    "class Matrix:\n",
    "    \"\"\"Чтобы использовать индексы, начиная с 1, а в нулевом столбце хранить свободные члены\"\"\"\n",
    "    def __getitem__(self, index):\n",
    "        if isinstance(index, tuple):\n",
    "            i = index[0] - 1\n",
    "            j = index[1]\n",
    "            return self.m[i, j]\n",
    "        else:\n",
    "            return self.m[index - 1]\n",
    "\n",
    "    def __setitem__(self, index, value):\n",
    "        if isinstance(index, tuple):\n",
    "            i = index[0] - 1\n",
    "            j = index[1]\n",
    "            self.m[i, j] = value\n",
    "        else:\n",
    "            self.m[index - 1] = value\n",
    "\n",
    "    def __init__(self, n):\n",
    "        self.n = n\n",
    "        self.m = numpy.zeros((n, n + 1))\n",
    "\n",
    "\n",
    "\n",
    "    def norm(self):\n",
    "        \"\"\"1 норма матрицы - максимальная сумма модулей в строке\"\"\"\n",
    "        sumofmodulesarray = []\n",
    "\n",
    "        for i in range(1, self.n + 1):\n",
    "            sumofmodules = 0\n",
    "\n",
    "            for j in range(1, self.n + 1):\n",
    "                sumofmodules += abs(self[i, j])\n",
    "            sumofmodulesarray.append(sumofmodules)\n",
    "\n",
    "        return max(sumofmodulesarray)\n",
    "\n",
    "    def dot(self, x):\n",
    "        \"\"\"Умножает матрицу на вектор с учётом съехавших индексов\"\"\"\n",
    "        x_ = [0] + x\n",
    "        return self.m.dot(x_)"
   ]
  },
  {
   "cell_type": "code",
   "execution_count": 4,
   "metadata": {},
   "outputs": [],
   "source": [
    "class LinearSystem:\n",
    "    \"\"\"Сохраняет исходную матрицу в атрибуте source : Matrix, реализует метод Гаусса, Зейделя и умеет считать число обусловленности.\"\"\"\n",
    "    def __getitem__(self, index):\n",
    "        return self.source.__getitem__(index)\n",
    "    def __setitem__(self, index, value):\n",
    "        self.source.__setitem__(index, value)\n",
    "\n",
    "    def __init__(self, n):\n",
    "        self.n = n\n",
    "        self.source = Matrix(n)\n",
    "\n",
    "    def solveGauss(self):\n",
    "        \"\"\"Решает систему методом Гаусса, возвращает список найденных иксов. Предполагается, что есть диагональное преобладание.\"\"\"\n",
    "        self.g = GaussMatrix(self.n)\n",
    "\n",
    "        for i in range(1, self.n + 1):\n",
    "            for j in range(0, self.n + 1):\n",
    "                self.g[i, j] = self[i, j]\n",
    "        \n",
    "        ans = self.g.solveGauss()\n",
    "\n",
    "        # Надо сохранить обратную матрицу, которая получилась как побочный продукт при решении методом Гаусса, чтобы потом считать число обусловленности\n",
    "        self.inverse = Matrix(self.n)\n",
    "        for i in range(self.n+1):\n",
    "            for j in range(self.n+1):\n",
    "                self.inverse[i, j] = self.g[i, -j]\n",
    "        return ans\n",
    "\n",
    "    def conditionNumber(self):\n",
    "        \"\"\"Число обусловленности по первой норме. Считает обратную матрицу по методу Гаусса, если она уже не посчитана.\"\"\"\n",
    "        if not hasattr(self, \"inverse\"):\n",
    "            self.solveGauss()\n",
    "        return self.source.norm() * self.inverse.norm()\n",
    "\n",
    "\n",
    "\n",
    "\n",
    "\n",
    "\n",
    "\n",
    "    def solveSeidel(self, max_residual):\n",
    "        \"\"\"Решает систему методом Зейделя, возвращает список найденных иксов. Предполагается, что метод сходится.\"\"\"\n",
    "        ld = GaussMatrix(self.n)\n",
    "        for i in range(1, self.n + 1):\n",
    "            for j in range(1, i + 1):\n",
    "                ld[i, j] = self.source[i, j]\n",
    "        ld.forwardGauss()\n",
    "\n",
    "        ld_inv = numpy.zeros((self.n, self.n))\n",
    "        for i in range(self.n):\n",
    "            for j in range(self.n):\n",
    "                ld_inv[i, j] = ld.m[i, self.n - j - 1] # эквив ld[i', -j'], где i' = i + 1, j' = j + 1\n",
    "\n",
    "        A = numpy.zeros((self.n, self.n))\n",
    "        for i in range(self.n):\n",
    "            for j in range(self.n):\n",
    "                A[i, j] = self.source[i + 1, j + 1]\n",
    "\n",
    "        u = numpy.zeros((self.n, self.n))\n",
    "        for i in range(self.n):\n",
    "            for j in range(i + 1, self.n):\n",
    "                u[i, j] = A[i, j]\n",
    "\n",
    "        ld_inv_times_u = numpy.matmul(ld_inv, u)\n",
    "        b = numpy.array([self.source[i, 0] for i in range(1, self.n+1)])\n",
    "        ld_inv_times_b = ld_inv.dot(b)\n",
    "\n",
    "        x = numpy.zeros(self.n)\n",
    "        while numpy.max(abs(A.dot(x) - b)) > max_residual:\n",
    "            x = - ld_inv_times_u.dot(x) + ld_inv_times_b\n",
    "\n",
    "        return x.tolist()\n"
   ]
  },
  {
   "source": [
    "Содержательный код закончился, дальше я его запускаю"
   ],
   "cell_type": "markdown",
   "metadata": {}
  },
  {
   "cell_type": "code",
   "execution_count": 5,
   "metadata": {},
   "outputs": [],
   "source": [
    "def scaryMatrix(nrows):\n",
    "    \"\"\"Обобщение системы из условия на случай матриц произвольного размера.\n",
    "        @returns LinearSystem\"\"\"\n",
    "    m = LinearSystem(nrows)\n",
    "\n",
    "    for i in range(2, nrows):\n",
    "        m[i, i] = 10\n",
    "        m[i, i-1] = m[i, i+1] = 1\n",
    "    m[1, 1] = m[nrows, nrows] = 10\n",
    "    m[1, 2] = 1\n",
    "\n",
    "    for i in range(1, nrows+1):\n",
    "        m[nrows, i] = 1\n",
    "        \n",
    "    for i in range(1, nrows+1):\n",
    "        m[i, 0] = i\n",
    "    return m\n",
    "\n",
    "s = scaryMatrix(100)"
   ]
  },
  {
   "cell_type": "code",
   "execution_count": 6,
   "metadata": {},
   "outputs": [
    {
     "output_type": "execute_result",
     "data": {
      "text/plain": "[0.08333333333333334,\n 0.16666666666666666,\n 0.24999999999999997,\n 0.3333333333333333,\n 0.4166666666666667,\n 0.5,\n 0.5833333333333334,\n 0.6666666666666666,\n 0.75,\n 0.8333333333333334,\n 0.9166666666666667,\n 1.0000000000000002,\n 1.0833333333333335,\n 1.1666666666666667,\n 1.25,\n 1.3333333333333335,\n 1.4166666666666667,\n 1.5000000000000002,\n 1.5833333333333335,\n 1.6666666666666667,\n 1.7500000000000002,\n 1.8333333333333337,\n 1.916666666666667,\n 1.9999999999999998,\n 2.0833333333333335,\n 2.1666666666666665,\n 2.2500000000000004,\n 2.3333333333333335,\n 2.4166666666666665,\n 2.5,\n 2.583333333333333,\n 2.666666666666667,\n 2.75,\n 2.833333333333333,\n 2.916666666666667,\n 3.0,\n 3.083333333333334,\n 3.1666666666666665,\n 3.25,\n 3.3333333333333335,\n 3.416666666666666,\n 3.5000000000000004,\n 3.583333333333333,\n 3.6666666666666674,\n 3.7499999999999996,\n 3.8333333333333335,\n 3.916666666666667,\n 4.0,\n 4.083333333333333,\n 4.166666666666667,\n 4.25,\n 4.333333333333334,\n 4.416666666666666,\n 4.5,\n 4.583333333333334,\n 4.666666666666667,\n 4.75,\n 4.833333333333334,\n 4.916666666666666,\n 5.0,\n 5.083333333333334,\n 5.166666666666667,\n 5.25,\n 5.333333333333333,\n 5.416666666666667,\n 5.500000000000001,\n 5.583333333333333,\n 5.666666666666667,\n 5.75,\n 5.833333333333333,\n 5.916666666666668,\n 6.000000000000001,\n 6.083333333333333,\n 6.166666666666666,\n 6.250000000000001,\n 6.333333333333334,\n 6.416666666666667,\n 6.5,\n 6.583333333333332,\n 6.666666666666668,\n 6.75,\n 6.833333333333333,\n 6.9166666666666705,\n 6.999999999999959,\n 7.083333333333745,\n 7.166666666662595,\n 7.250000000040309,\n 7.333333332934318,\n 7.416666670616514,\n 7.499999960900549,\n 7.58333372037799,\n 7.666662835319551,\n 7.750037926426517,\n 7.8329579004152965,\n 7.920383069420514,\n 7.9632114053795595,\n 8.447502876783897,\n 4.561759826781485,\n 43.93489885540126,\n -344.910748380794]"
     },
     "metadata": {},
     "execution_count": 6
    }
   ],
   "source": [
    "ansGauss = s.solveGauss()\n",
    "ansGauss"
   ]
  },
  {
   "cell_type": "code",
   "execution_count": 7,
   "metadata": {},
   "outputs": [
    {
     "output_type": "execute_result",
     "data": {
      "text/plain": "array([  1.,   2.,   3.,   4.,   5.,   6.,   7.,   8.,   9.,  10.,  11.,\n        12.,  13.,  14.,  15.,  16.,  17.,  18.,  19.,  20.,  21.,  22.,\n        23.,  24.,  25.,  26.,  27.,  28.,  29.,  30.,  31.,  32.,  33.,\n        34.,  35.,  36.,  37.,  38.,  39.,  40.,  41.,  42.,  43.,  44.,\n        45.,  46.,  47.,  48.,  49.,  50.,  51.,  52.,  53.,  54.,  55.,\n        56.,  57.,  58.,  59.,  60.,  61.,  62.,  63.,  64.,  65.,  66.,\n        67.,  68.,  69.,  70.,  71.,  72.,  73.,  74.,  75.,  76.,  77.,\n        78.,  79.,  80.,  81.,  82.,  83.,  84.,  85.,  86.,  87.,  88.,\n        89.,  90.,  91.,  92.,  93.,  94.,  95.,  96.,  97.,  98.,  99.,\n       100.])"
     },
     "metadata": {},
     "execution_count": 7
    }
   ],
   "source": [
    "# Проверяем, что решение верно\n",
    "\n",
    "s.source.dot(ansGauss) # - [i for i in range(1, 101)]"
   ]
  },
  {
   "cell_type": "code",
   "execution_count": 8,
   "metadata": {},
   "outputs": [
    {
     "output_type": "execute_result",
     "data": {
      "text/plain": "1020.127651091681"
     },
     "metadata": {},
     "execution_count": 8
    }
   ],
   "source": [
    "# Число обусловленности\n",
    "s.conditionNumber()"
   ]
  },
  {
   "cell_type": "code",
   "execution_count": 9,
   "metadata": {},
   "outputs": [
    {
     "output_type": "execute_result",
     "data": {
      "text/plain": "[0.08333333333292736,\n 0.16666666666626886,\n 0.2499999999995725,\n 0.33333333333287957,\n 0.4166666666661863,\n 0.4999999999994933,\n 0.5833333333327999,\n 0.6666666666661067,\n 0.7499999999994134,\n 0.83333333333272,\n 0.9166666666660271,\n 0.9999999999993339,\n 1.0833333333326405,\n 1.1666666666659473,\n 1.249999999999254,\n 1.333333333332561,\n 1.4166666666658678,\n 1.4999999999991742,\n 1.5833333333324813,\n 1.6666666666657879,\n 1.7499999999990945,\n 1.8333333333324013,\n 1.9166666666657084,\n 1.9999999999990155,\n 2.083333333332322,\n 2.1666666666656287,\n 2.2499999999989355,\n 2.333333333332243,\n 2.416666666665549,\n 2.4999999999988556,\n 2.583333333332162,\n 2.6666666666654693,\n 2.749999999998776,\n 2.8333333333320834,\n 2.9166666666653898,\n 2.999999999998696,\n 3.0833333333320034,\n 3.1666666666653103,\n 3.2499999999986176,\n 3.3333333333319235,\n 3.4166666666652312,\n 3.499999999998537,\n 3.5833333333318436,\n 3.6666666666651517,\n 3.7499999999984563,\n 3.833333333331765,\n 3.9166666666650705,\n 3.999999999998379,\n 4.0833333333316855,\n 4.166666666664991,\n 4.249999999998298,\n 4.333333333331604,\n 4.416666666664913,\n 4.499999999998219,\n 4.583333333331525,\n 4.666666666664833,\n 4.749999999998138,\n 4.833333333331446,\n 4.916666666664754,\n 4.999999999998059,\n 5.083333333331366,\n 5.166666666664673,\n 5.249999999997979,\n 5.333333333331288,\n 5.416666666664594,\n 5.4999999999979,\n 5.583333333331206,\n 5.666666666664514,\n 5.74999999999782,\n 5.833333333331126,\n 5.916666666664435,\n 5.9999999999977405,\n 6.083333333331049,\n 6.166666666664354,\n 6.2499999999976605,\n 6.333333333330969,\n 6.416666666664274,\n 6.499999999997582,\n 6.58333333333089,\n 6.666666666664194,\n 6.7499999999975016,\n 6.833333333330808,\n 6.916666666664117,\n 6.9999999999974225,\n 7.083333333330727,\n 7.166666666664035,\n 7.249999999997344,\n 7.333333333330649,\n 7.416666670263138,\n 7.4999999610784025,\n 7.583333720312273,\n 7.666662835339147,\n 7.750037926421233,\n 7.832957900416299,\n 7.920383069420051,\n 7.963211405379369,\n 8.447502876783622,\n 4.561759826781193,\n 43.93489885540095,\n -344.9107483807945]"
     },
     "metadata": {},
     "execution_count": 9
    }
   ],
   "source": [
    "ansSeidel = s.solveSeidel(1e-8)\n",
    "ansSeidel"
   ]
  },
  {
   "cell_type": "code",
   "execution_count": 13,
   "metadata": {},
   "outputs": [
    {
     "output_type": "execute_result",
     "data": {
      "text/plain": "array([  1.,   2.,   3.,   4.,   5.,   6.,   7.,   8.,   9.,  10.,  11.,\n        12.,  13.,  14.,  15.,  16.,  17.,  18.,  19.,  20.,  21.,  22.,\n        23.,  24.,  25.,  26.,  27.,  28.,  29.,  30.,  31.,  32.,  33.,\n        34.,  35.,  36.,  37.,  38.,  39.,  40.,  41.,  42.,  43.,  44.,\n        45.,  46.,  47.,  48.,  49.,  50.,  51.,  52.,  53.,  54.,  55.,\n        56.,  57.,  58.,  59.,  60.,  61.,  62.,  63.,  64.,  65.,  66.,\n        67.,  68.,  69.,  70.,  71.,  72.,  73.,  74.,  75.,  76.,  77.,\n        78.,  79.,  80.,  81.,  82.,  83.,  84.,  85.,  86.,  87.,  88.,\n        89.,  90.,  91.,  92.,  93.,  94.,  95.,  96.,  97.,  98.,  99.,\n       100.])"
     },
     "metadata": {},
     "execution_count": 13
    }
   ],
   "source": [
    "# Проверяем, что решение верно\n",
    "\n",
    "s.source.dot(ansSeidel) # - [i for i in range(1, 101)]"
   ]
  }
 ]
}