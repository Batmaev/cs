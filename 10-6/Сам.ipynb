{
 "metadata": {
  "language_info": {
   "codemirror_mode": {
    "name": "ipython",
    "version": 3
   },
   "file_extension": ".py",
   "mimetype": "text/x-python",
   "name": "python",
   "nbconvert_exporter": "python",
   "pygments_lexer": "ipython3",
   "version": "3.7.6-final"
  },
  "orig_nbformat": 2,
  "kernelspec": {
   "name": "Python 3.7.6 64-bit ('base': conda)",
   "display_name": "Python 3.7.6 64-bit ('base': conda)",
   "metadata": {
    "interpreter": {
     "hash": "07efdcd4b820c98a756949507a4d29d7862823915ec7477944641bea022f4f62"
    }
   }
  }
 },
 "nbformat": 4,
 "nbformat_minor": 2,
 "cells": [
  {
   "cell_type": "code",
   "execution_count": 1,
   "metadata": {},
   "outputs": [],
   "source": [
    "import numpy"
   ]
  },
  {
   "cell_type": "code",
   "execution_count": 2,
   "metadata": {},
   "outputs": [],
   "source": [
    "# В этом классе реализован алгоритм поиска максимального по модулю собственного значения\n",
    "\n",
    "class Matrix:\n",
    "    \"\"\"Чтобы использовать индексы, начиная с 1, а в нулевом столбце хранить свободные члены\"\"\"\n",
    "    def __getitem__(self, index):\n",
    "        if isinstance(index, tuple):\n",
    "            i = index[0] - 1\n",
    "            j = index[1]\n",
    "            return self.m[i, j]\n",
    "        else:\n",
    "            return self.m[index - 1]\n",
    "\n",
    "    def __setitem__(self, index, value):\n",
    "        if isinstance(index, tuple):\n",
    "            i = index[0] - 1\n",
    "            j = index[1]\n",
    "            self.m[i, j] = value\n",
    "        else:\n",
    "            self.m[index - 1] = value\n",
    "\n",
    "    def __init__(self, n):\n",
    "        self.n = n\n",
    "        self.m = numpy.zeros((n, n + 1))\n",
    "\n",
    "\n",
    "\n",
    "    def lambdamax(self, maxrelguessdif=0.001, maxiterations=1000):\n",
    "        \"\"\"Максимальное по модулю собственное число степенным методом, начиная со случайного вектора. Если он окажется перпендикулярен собственному вектору с нужным собственным числом, то этот метод вернёт второе по модулю собственное число, и так далее. Если так произошло, то можно запустить lambdamax() повторно.\"\"\"\n",
    "        A = self.m[:,1:] #Выкидывает первый столбец, чтобы получить квадратную матрицу\n",
    "\n",
    "        x_old = numpy.random.rand(self.n)\n",
    "        x_old /= numpy.linalg.norm(x_old)\n",
    "        lambdaoldguess = numpy.nan\n",
    "        success = False\n",
    "\n",
    "        for _ in range(maxiterations):\n",
    "            x_new = A.dot(x_old)\n",
    "            lambdanewguess = numpy.dot(x_new, x_old) # = (x_new, x_old) / (x_old, x_old), т.к x_old всегда отнормированный. Я его нормирую, чтобы при большом числе итераций x_new не становился бесконечным или нулевым (там геометрическая прогрессия как бы)\n",
    "            if abs(lambdanewguess/lambdaoldguess - 1) < maxrelguessdif:\n",
    "                success = True\n",
    "                break\n",
    "            x_old = x_new / numpy.linalg.norm(x_new)\n",
    "            lambdaoldguess = lambdanewguess\n",
    "\n",
    "        if not success:\n",
    "            print(\"failure\")\n",
    "\n",
    "        return lambdanewguess\n",
    "\n",
    "    def norm(self):\n",
    "        \"\"\"1 норма матрицы - максимальная сумма модулей в строке\"\"\"\n",
    "        sumofmodulesarray = []\n",
    "\n",
    "        for i in range(1, self.n + 1):\n",
    "            sumofmodules = 0\n",
    "\n",
    "            for j in range(1, self.n + 1):\n",
    "                sumofmodules += abs(self[i, j])\n",
    "            sumofmodulesarray.append(sumofmodules)\n",
    "\n",
    "        return max(sumofmodulesarray)\n",
    "\n",
    "\n",
    "    def dot(self, x):\n",
    "        \"\"\"Умножает матрицу на вектор с учётом съехавших индексов\"\"\"\n",
    "        x_ = [0] + x\n",
    "        return self.m.dot(x_)"
   ]
  },
  {
   "cell_type": "code",
   "execution_count": 3,
   "metadata": {},
   "outputs": [],
   "source": [
    "# В этом классе написана реализация алгоритма Гаусса\n",
    "\n",
    "class GaussMatrix:\n",
    "    \"\"\"Расширенная матрица. Нулевой столбец - для свободных членов, положительные - для матрицы коэффициентов (индексы начинаются с 1), а в отрицательных автоматически появится единичная матрица a[i, -i] = 1\"\"\"\n",
    "\n",
    "    def __getitem__(self, index):\n",
    "        if isinstance(index, tuple):\n",
    "            i = index[0] - 1\n",
    "            j = index[1] + self.n\n",
    "            return self.m[i, j]\n",
    "        else:\n",
    "            return self.m[index - 1]\n",
    "\n",
    "    def __setitem__(self, index, value):\n",
    "        if isinstance(index, tuple):\n",
    "            i = index[0] - 1\n",
    "            j = index[1] + self.n\n",
    "            self.m[i, j] = value\n",
    "        else:\n",
    "            self.m[index - 1] = value\n",
    "\n",
    "    def __init__(self, nrows):\n",
    "        self.n = nrows\n",
    "        self.m = numpy.zeros((nrows, 2 * nrows + 1))\n",
    "        \n",
    "        for i in range(1, nrows + 1):\n",
    "            self[i, -i] = 1\n",
    "\n",
    "\n",
    "    \n",
    "    def forwardGauss(self):\n",
    "        \"\"\"Прямой ход метода Гаусса\"\"\"\n",
    "        for i in range(1, self.n + 1):\n",
    "\n",
    "            ii = self[i, i]\n",
    "            self[i] /= ii\n",
    "\n",
    "            for i_ in range(i + 1, self.n + 1):\n",
    "                i_i = self[i_, i]\n",
    "                self[i_] -= self[i] * i_i\n",
    "                \n",
    "    def backwardGauss(self):\n",
    "        \"\"\"Обратный ход метода Гаусса\"\"\"\n",
    "        for i in range(self.n, 0, -1):\n",
    "            for i_ in range(i-1, 0, -1):\n",
    "                i_i = self[i_, i]\n",
    "                self[i_] -= self[i] * i_i\n",
    "\n",
    "    \n",
    "    def solveGauss(self):\n",
    "        \"\"\"Решает систему методом Гаусса, возвращает список найденных иксов. Предполагается, что есть диагональное преобладание.\"\"\"\n",
    "        self.forwardGauss()\n",
    "        self.backwardGauss()\n",
    "        return [self[i, 0] for i in range(1, self.n+1)]\n"
   ]
  },
  {
   "cell_type": "code",
   "execution_count": 4,
   "metadata": {},
   "outputs": [],
   "source": [
    "# В этом классе написана реализация алгоритма Зейделя\n",
    "\n",
    "class LinearSystem:\n",
    "    \"\"\"Сохраняет исходную матрицу в атрибуте source : Matrix, реализует метод Гаусса, Зейделя, умеет считать число обусловленности и max/min собственные значения.\"\"\"\n",
    "    def __getitem__(self, index):\n",
    "        return self.source.__getitem__(index)\n",
    "    def __setitem__(self, index, value):\n",
    "        self.source.__setitem__(index, value)\n",
    "\n",
    "    def __init__(self, n):\n",
    "        self.n = n\n",
    "        self.source = Matrix(n)\n",
    "\n",
    "    def solveGauss(self):\n",
    "        \"\"\"Решает систему методом Гаусса, возвращает список найденных иксов. Предполагается, что есть диагональное преобладание.\"\"\"\n",
    "        g = GaussMatrix(self.n)\n",
    "\n",
    "        for i in range(1, self.n + 1):\n",
    "            for j in range(0, self.n + 1):\n",
    "                g[i, j] = self[i, j]\n",
    "        \n",
    "        ans = g.solveGauss()\n",
    "\n",
    "        # Надо сохранить обратную матрицу, которая получилась как побочный продукт при решении методом Гаусса, чтобы потом считать число обусловленности\n",
    "        self.inverse = Matrix(self.n)\n",
    "        for i in range(self.n+1):\n",
    "            for j in range(self.n+1):\n",
    "                self.inverse[i, j] = g[i, -j]\n",
    "        return ans\n",
    "\n",
    "\n",
    "\n",
    "\n",
    "\n",
    "    def conditionNumber(self):\n",
    "        \"\"\"Число обусловленности по первой норме. Считает обратную матрицу по методу Гаусса, если она уже не посчитана.\"\"\"\n",
    "        if not hasattr(self, \"inverse\"):\n",
    "            self.solveGauss()\n",
    "        return self.source.norm() * self.inverse.norm()\n",
    "\n",
    "    def lambdamin(self):\n",
    "        \"\"\"Минимальное по модулю собственное число. Считаем обратную матрицу по методу Гаусса, если она уже не посчитана.\"\"\"\n",
    "        if not hasattr(self, \"inverse\"):\n",
    "            self.solveGauss()\n",
    "        return 1 / self.inverse.lambdamax()\n",
    "\n",
    "    def lambdamax(self):\n",
    "        \"\"\"Максимальное по модулю собственное число\"\"\"\n",
    "        return self.source.lambdamax()\n",
    "\n",
    "\n",
    "\n",
    "\n",
    "\n",
    "\n",
    "\n",
    "    def solveSeidel(self, max_residual=1e-8):\n",
    "        \"\"\"Решает систему методом Зейделя, возвращает список найденных иксов. Предполагается, что метод сходится. Останавливается, когда невязка становится меньше max_residual\"\"\"\n",
    "        ld = GaussMatrix(self.n)\n",
    "        for i in range(1, self.n + 1):\n",
    "            for j in range(1, i + 1):\n",
    "                ld[i, j] = self.source[i, j]\n",
    "        ld.forwardGauss()\n",
    "\n",
    "        ld_inv = numpy.zeros((self.n, self.n))\n",
    "        for i in range(self.n):\n",
    "            for j in range(self.n):\n",
    "                ld_inv[i, j] = ld.m[i, self.n - j - 1] # эквив ld[i', -j'], где i' = i + 1, j' = j + 1\n",
    "\n",
    "        # A = numpy.zeros((self.n, self.n))\n",
    "        # for i in range(self.n):\n",
    "        #     for j in range(self.n):\n",
    "        #         A[i, j] = self.source[i + 1, j + 1]\n",
    "        A = self.source.m[:,1:]\n",
    "\n",
    "        u = numpy.zeros((self.n, self.n))\n",
    "        for i in range(self.n):\n",
    "            for j in range(i + 1, self.n):\n",
    "                u[i, j] = A[i, j]\n",
    "\n",
    "        ld_inv_times_u = numpy.matmul(ld_inv, u)\n",
    "        b = numpy.array([self.source[i, 0] for i in range(1, self.n+1)])\n",
    "        ld_inv_times_b = ld_inv.dot(b)\n",
    "\n",
    "        # Собственно, сам алгоритм Зейделя\n",
    "        x = numpy.zeros(self.n)\n",
    "        while numpy.max(abs(A.dot(x) - b)) > max_residual:\n",
    "            x = - ld_inv_times_u.dot(x) + ld_inv_times_b\n",
    "\n",
    "        return x.tolist()\n"
   ]
  },
  {
   "source": [
    "Содержательный код закончился, дальше я его запускаю"
   ],
   "cell_type": "markdown",
   "metadata": {}
  },
  {
   "cell_type": "code",
   "execution_count": 5,
   "metadata": {},
   "outputs": [],
   "source": [
    "def scaryMatrix(nrows):\n",
    "    \"\"\"Обобщение системы из условия на случай матриц произвольного размера.\n",
    "        @returns LinearSystem\"\"\"\n",
    "    m = LinearSystem(nrows)\n",
    "\n",
    "    for i in range(2, nrows):\n",
    "        m[i, i] = 10\n",
    "        m[i, i-1] = m[i, i+1] = 1\n",
    "    m[1, 1] = m[nrows, nrows] = 10\n",
    "    m[1, 2] = 1\n",
    "\n",
    "    for i in range(1, nrows+1):\n",
    "        m[nrows, i] = 1\n",
    "        \n",
    "    for i in range(1, nrows+1):\n",
    "        m[i, 0] = i\n",
    "    return m\n",
    "\n",
    "s = scaryMatrix(100)"
   ]
  },
  {
   "cell_type": "code",
   "execution_count": 6,
   "metadata": {},
   "outputs": [],
   "source": [
    "ansGauss = s.solveGauss()"
   ]
  },
  {
   "cell_type": "code",
   "execution_count": 7,
   "metadata": {},
   "outputs": [
    {
     "output_type": "execute_result",
     "data": {
      "text/plain": "array([  1.,   2.,   3.,   4.,   5.,   6.,   7.,   8.,   9.,  10.,  11.,\n        12.,  13.,  14.,  15.,  16.,  17.,  18.,  19.,  20.,  21.,  22.,\n        23.,  24.,  25.,  26.,  27.,  28.,  29.,  30.,  31.,  32.,  33.,\n        34.,  35.,  36.,  37.,  38.,  39.,  40.,  41.,  42.,  43.,  44.,\n        45.,  46.,  47.,  48.,  49.,  50.,  51.,  52.,  53.,  54.,  55.,\n        56.,  57.,  58.,  59.,  60.,  61.,  62.,  63.,  64.,  65.,  66.,\n        67.,  68.,  69.,  70.,  71.,  72.,  73.,  74.,  75.,  76.,  77.,\n        78.,  79.,  80.,  81.,  82.,  83.,  84.,  85.,  86.,  87.,  88.,\n        89.,  90.,  91.,  92.,  93.,  94.,  95.,  96.,  97.,  98.,  99.,\n       100.])"
     },
     "metadata": {},
     "execution_count": 7
    }
   ],
   "source": [
    "# Проверяем, что решение верно\n",
    "\n",
    "s.source.dot(ansGauss) # - [i for i in range(1, 101)]"
   ]
  },
  {
   "cell_type": "code",
   "execution_count": 8,
   "metadata": {},
   "outputs": [],
   "source": [
    "ansSeidel = s.solveSeidel()"
   ]
  },
  {
   "cell_type": "code",
   "execution_count": 9,
   "metadata": {},
   "outputs": [
    {
     "output_type": "execute_result",
     "data": {
      "text/plain": "array([  1.,   2.,   3.,   4.,   5.,   6.,   7.,   8.,   9.,  10.,  11.,\n        12.,  13.,  14.,  15.,  16.,  17.,  18.,  19.,  20.,  21.,  22.,\n        23.,  24.,  25.,  26.,  27.,  28.,  29.,  30.,  31.,  32.,  33.,\n        34.,  35.,  36.,  37.,  38.,  39.,  40.,  41.,  42.,  43.,  44.,\n        45.,  46.,  47.,  48.,  49.,  50.,  51.,  52.,  53.,  54.,  55.,\n        56.,  57.,  58.,  59.,  60.,  61.,  62.,  63.,  64.,  65.,  66.,\n        67.,  68.,  69.,  70.,  71.,  72.,  73.,  74.,  75.,  76.,  77.,\n        78.,  79.,  80.,  81.,  82.,  83.,  84.,  85.,  86.,  87.,  88.,\n        89.,  90.,  91.,  92.,  93.,  94.,  95.,  96.,  97.,  98.,  99.,\n       100.])"
     },
     "metadata": {},
     "execution_count": 9
    }
   ],
   "source": [
    "# Проверяем, что решение верно\n",
    "\n",
    "s.source.dot(ansSeidel) # - [i for i in range(1, 101)]"
   ]
  },
  {
   "cell_type": "code",
   "execution_count": 10,
   "metadata": {},
   "outputs": [
    {
     "output_type": "execute_result",
     "data": {
      "text/plain": "1020.127651091681"
     },
     "metadata": {},
     "execution_count": 10
    }
   ],
   "source": [
    "# Число обусловленности\n",
    "s.conditionNumber()"
   ]
  },
  {
   "cell_type": "code",
   "execution_count": 11,
   "metadata": {},
   "outputs": [
    {
     "output_type": "execute_result",
     "data": {
      "text/plain": "(12.063511003283352, 0.8998597416986196)"
     },
     "metadata": {},
     "execution_count": 11
    }
   ],
   "source": [
    "(s.lambdamax(), s.lambdamin())"
   ]
  },
  {
   "cell_type": "code",
   "execution_count": 28,
   "metadata": {
    "tags": []
   },
   "outputs": [
    {
     "output_type": "execute_result",
     "data": {
      "text/plain": "(18.022690673521364, 1.0000000055949088)"
     },
     "metadata": {},
     "execution_count": 28
    }
   ],
   "source": [
    "# для тестирования запустим lambdamax у матрицы из задачи **, должно получиться 23 и 1\n",
    "qwe = LinearSystem(3)\n",
    "qwe.source.m = numpy.array([[0, 18, 6, 0],\n",
    "                            [0, 6, 6, -7],\n",
    "                            [0,0, -7, 18]])\n",
    "(qwe.lambdamax(), qwe.lambdamin())"
   ]
  },
  {
   "cell_type": "code",
   "execution_count": null,
   "metadata": {},
   "outputs": [],
   "source": []
  }
 ]
}